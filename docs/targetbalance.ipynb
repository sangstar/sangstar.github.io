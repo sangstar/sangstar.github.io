{
 "cells": [
  {
   "cell_type": "code",
   "execution_count": 13,
   "metadata": {},
   "outputs": [
    {
     "name": "stdout",
     "output_type": "stream",
     "text": [
      "Defaulting to user installation because normal site-packages is not writeable\n",
      "Requirement already satisfied: pandas in /Users/sangersteel/Library/Python/3.9/lib/python/site-packages (2.0.0)\n",
      "Requirement already satisfied: matplotlib in /Users/sangersteel/Library/Python/3.9/lib/python/site-packages (3.7.1)\n",
      "Requirement already satisfied: scikit-learn in /Users/sangersteel/Library/Python/3.9/lib/python/site-packages (1.2.2)\n",
      "Requirement already satisfied: tzdata>=2022.1 in /Users/sangersteel/Library/Python/3.9/lib/python/site-packages (from pandas) (2023.3)\n",
      "Requirement already satisfied: python-dateutil>=2.8.2 in /Users/sangersteel/Library/Python/3.9/lib/python/site-packages (from pandas) (2.8.2)\n",
      "Requirement already satisfied: numpy>=1.20.3 in /Users/sangersteel/Library/Python/3.9/lib/python/site-packages (from pandas) (1.24.1)\n",
      "Requirement already satisfied: pytz>=2020.1 in /Users/sangersteel/Library/Python/3.9/lib/python/site-packages (from pandas) (2023.3)\n",
      "Requirement already satisfied: kiwisolver>=1.0.1 in /Users/sangersteel/Library/Python/3.9/lib/python/site-packages (from matplotlib) (1.4.4)\n",
      "Requirement already satisfied: pyparsing>=2.3.1 in /Users/sangersteel/Library/Python/3.9/lib/python/site-packages (from matplotlib) (3.0.9)\n",
      "Requirement already satisfied: contourpy>=1.0.1 in /Users/sangersteel/Library/Python/3.9/lib/python/site-packages (from matplotlib) (1.0.7)\n",
      "Requirement already satisfied: cycler>=0.10 in /Users/sangersteel/Library/Python/3.9/lib/python/site-packages (from matplotlib) (0.11.0)\n",
      "Requirement already satisfied: fonttools>=4.22.0 in /Users/sangersteel/Library/Python/3.9/lib/python/site-packages (from matplotlib) (4.39.3)\n",
      "Requirement already satisfied: pillow>=6.2.0 in /Users/sangersteel/Library/Python/3.9/lib/python/site-packages (from matplotlib) (9.5.0)\n",
      "Requirement already satisfied: packaging>=20.0 in /Users/sangersteel/Library/Python/3.9/lib/python/site-packages (from matplotlib) (23.0)\n",
      "Requirement already satisfied: importlib-resources>=3.2.0 in /Users/sangersteel/Library/Python/3.9/lib/python/site-packages (from matplotlib) (5.12.0)\n",
      "Requirement already satisfied: joblib>=1.1.1 in /Users/sangersteel/Library/Python/3.9/lib/python/site-packages (from scikit-learn) (1.2.0)\n",
      "Requirement already satisfied: scipy>=1.3.2 in /Users/sangersteel/Library/Python/3.9/lib/python/site-packages (from scikit-learn) (1.10.1)\n",
      "Requirement already satisfied: threadpoolctl>=2.0.0 in /Users/sangersteel/Library/Python/3.9/lib/python/site-packages (from scikit-learn) (3.1.0)\n",
      "Requirement already satisfied: zipp>=3.1.0 in /Users/sangersteel/Library/Python/3.9/lib/python/site-packages (from importlib-resources>=3.2.0->matplotlib) (3.15.0)\n",
      "Requirement already satisfied: six>=1.5 in /Library/Developer/CommandLineTools/Library/Frameworks/Python3.framework/Versions/3.9/lib/python3.9/site-packages (from python-dateutil>=2.8.2->pandas) (1.15.0)\n",
      "\u001b[33mWARNING: You are using pip version 21.2.4; however, version 23.1.1 is available.\n",
      "You should consider upgrading via the '/Library/Developer/CommandLineTools/usr/bin/python3 -m pip install --upgrade pip' command.\u001b[0m\n"
     ]
    }
   ],
   "source": [
    "!pip3 install pandas matplotlib scikit-learn\n",
    "\n",
    "import pandas as pd"
   ]
  },
  {
   "cell_type": "code",
   "execution_count": 14,
   "metadata": {},
   "outputs": [],
   "source": [
    "iris = pd.read_csv('https://raw.githubusercontent.com/mwaskom/seaborn-data/master/iris.csv')\n"
   ]
  },
  {
   "cell_type": "code",
   "execution_count": 15,
   "metadata": {},
   "outputs": [
    {
     "ename": "NameError",
     "evalue": "name 'plt' is not defined",
     "output_type": "error",
     "traceback": [
      "\u001b[0;31m---------------------------------------------------------------------------\u001b[0m",
      "\u001b[0;31mNameError\u001b[0m                                 Traceback (most recent call last)",
      "Cell \u001b[0;32mIn[15], line 2\u001b[0m\n\u001b[1;32m      1\u001b[0m iris[\u001b[39m'\u001b[39m\u001b[39mspecies\u001b[39m\u001b[39m'\u001b[39m]\u001b[39m.\u001b[39mvalue_counts()\u001b[39m.\u001b[39mplot\u001b[39m.\u001b[39mbar()\n\u001b[0;32m----> 2\u001b[0m plt\u001b[39m.\u001b[39mtitle(\u001b[39m'\u001b[39m\u001b[39mBalanced targets\u001b[39m\u001b[39m'\u001b[39m)\n\u001b[1;32m      3\u001b[0m plt\u001b[39m.\u001b[39mylabel(\u001b[39m'\u001b[39m\u001b[39mPrevalence\u001b[39m\u001b[39m'\u001b[39m)\n\u001b[1;32m      4\u001b[0m plt\u001b[39m.\u001b[39mgrid()\n",
      "\u001b[0;31mNameError\u001b[0m: name 'plt' is not defined"
     ]
    },
    {
     "data": {
      "image/png": "[encoded data removed]",
      "text/plain": [
       "<Figure size 640x480 with 1 Axes>"
      ]
     },
     "metadata": {},
     "output_type": "display_data"
    }
   ],
   "source": [
    "iris['species'].value_counts().plot.bar()\n",
    "plt.title('Balanced targets')\n",
    "plt.ylabel('Prevalence')\n",
    "plt.grid()\n",
    "plt.savefig('balanced.jpg')"
   ]
  },
  {
   "cell_type": "code",
   "execution_count": 71,
   "metadata": {},
   "outputs": [],
   "source": [
    "def get_proportions(num_cats):\n",
    "    import numpy.random as random\n",
    "    import numpy as np\n",
    "    nums = [random.random() for x in range(num_cats)]\n",
    "    summed = np.sum(nums)\n",
    "    return [x/summed for x in nums]"
   ]
  },
  {
   "cell_type": "code",
   "execution_count": 72,
   "metadata": {},
   "outputs": [
    {
     "data": {
      "text/plain": [
       "[0.4102251325222409, 0.49819412963061294, 0.09158073784714617]"
      ]
     },
     "execution_count": 72,
     "metadata": {},
     "output_type": "execute_result"
    }
   ],
   "source": [
    "get_proportions(3)"
   ]
  },
  {
   "cell_type": "code",
   "execution_count": 87,
   "metadata": {},
   "outputs": [],
   "source": [
    "\n",
    "def imbalance_dataset(df, target):\n",
    "    pds = []\n",
    "    df_len = len(df)\n",
    "    unique_cats = iris[target].unique()\n",
    "    proportions = get_proportions(len(unique_cats))\n",
    "    print(proportions)\n",
    "    for i, val in enumerate(unique_cats):\n",
    "        print(val)\n",
    "        spec = df[df[target] == val]\n",
    "        spec_len = len(spec)\n",
    "        #print(f' getting for {val} {round(df_len*proportions[i])} points')\n",
    "        resultant_pdf = spec.sample(frac=1).head(round(spec_len*proportions[i]))\n",
    "        print(len(resultant_pdf))\n",
    "        pds.append(resultant_pdf)\n",
    "    return pd.concat(pds)\n",
    "\n"
   ]
  },
  {
   "cell_type": "code",
   "execution_count": 88,
   "metadata": {},
   "outputs": [
    {
     "name": "stdout",
     "output_type": "stream",
     "text": [
      "[0.46769222399022103, 0.2588660557223937, 0.2734417202873854]\n",
      "setosa\n",
      "23\n",
      "versicolor\n",
      "13\n",
      "virginica\n",
      "14\n"
     ]
    }
   ],
   "source": [
    "df = imbalance_dataset(iris, 'species')"
   ]
  },
  {
   "cell_type": "code",
   "execution_count": 89,
   "metadata": {},
   "outputs": [
    {
     "data": {
      "text/plain": [
       "species\n",
       "setosa        23\n",
       "virginica     14\n",
       "versicolor    13\n",
       "Name: count, dtype: int64"
      ]
     },
     "execution_count": 89,
     "metadata": {},
     "output_type": "execute_result"
    }
   ],
   "source": [
    "df['species'].value_counts()"
   ]
  },
  {
   "cell_type": "code",
   "execution_count": 112,
   "metadata": {},
   "outputs": [
    {
     "data": {
      "text/plain": [
       "([<matplotlib.axis.XTick at 0x14b95e820>,\n",
       "  <matplotlib.axis.XTick at 0x14b95e7f0>,\n",
       "  <matplotlib.axis.XTick at 0x14b95e070>],\n",
       " [Text(0.3, 0, 'setosa'), Text(0.45, 0, 'setosa'), Text(0.5, 0, 'setosa')])"
      ]
     },
     "execution_count": 112,
     "metadata": {},
     "output_type": "execute_result"
    },
    {
     "data": {
      "image/png": "[encoded data removed]",
      "text/plain": [
       "<Figure size 640x480 with 1 Axes>"
      ]
     },
     "metadata": {},
     "output_type": "display_data"
    }
   ],
   "source": [
    "import matplotlib.pyplot as plt\n",
    "df['species'].hist()\n",
    "plt.xticks([0.3,0.45,0.5])"
   ]
  },
  {
   "cell_type": "code",
   "execution_count": 111,
   "metadata": {},
   "outputs": [
    {
     "data": {
      "text/plain": [
       "(array([0. , 0.2, 0.4, 0.6, 0.8, 1. ]),\n",
       " [Text(0.0, 0, '0.0'),\n",
       "  Text(0.2, 0, '0.2'),\n",
       "  Text(0.4, 0, '0.4'),\n",
       "  Text(0.6000000000000001, 0, '0.6'),\n",
       "  Text(0.8, 0, '0.8'),\n",
       "  Text(1.0, 0, '1.0')])"
      ]
     },
     "execution_count": 111,
     "metadata": {},
     "output_type": "execute_result"
    },
    {
     "data": {
      "image/png": "[encoded data removed]",
      "text/plain": [
       "<Figure size 640x480 with 1 Axes>"
      ]
     },
     "metadata": {},
     "output_type": "display_data"
    }
   ],
   "source": [
    "plt.xticks()"
   ]
  },
  {
   "cell_type": "code",
   "execution_count": null,
   "metadata": {},
   "outputs": [],
   "source": []
  }
 ],
 "metadata": {
  "kernelspec": {
   "display_name": "Python 3.9.6 64-bit",
   "language": "python",
   "name": "python3"
  },
  "language_info": {
   "codemirror_mode": {
    "name": "ipython",
    "version": 3
   },
   "file_extension": ".py",
   "mimetype": "text/x-python",
   "name": "python",
   "nbconvert_exporter": "python",
   "pygments_lexer": "ipython3",
   "version": "3.9.6"
  },
  "orig_nbformat": 4,
  "vscode": {
   "interpreter": {
    "hash": "31f2aee4e71d21fbe5cf8b01ff0e069b9275f58929596ceb00d14d90e3e16cd6"
   }
  }
 },
 "nbformat": 4,
 "nbformat_minor": 2
}
